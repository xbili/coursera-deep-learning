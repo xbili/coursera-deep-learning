{
 "cells": [
  {
   "cell_type": "markdown",
   "metadata": {},
   "source": [
    "# Softmax Regression\n",
    "\n",
    "This regression is used when we want to classify into $C$ different classes. The output layer will then tell us the probability of each class given the training data, $X$.\n",
    "\n",
    "## Softmax Layer\n",
    "\n",
    "$$t = e^{z^{[l]}}$$\n",
    "$$a^{[l]} = \\frac{e^{z^{[l]}}}{\\sum t_i}$$\n",
    "\n",
    "In short, this comprises of 2 steps:\n",
    "\n",
    "1. Calculate $t = e^{z^{[l]}}$\n",
    "2. Calculate the sum $\\sum t_i$\n",
    "3. Divide result obtained in step 1 by that obtained in step 2\n",
    "\n",
    "We will end up with a vector result that sums up to $1$.\n",
    "\n",
    "Note that if $C = 2$, softmax reduces to a logistic regression."
   ]
  },
  {
   "cell_type": "markdown",
   "metadata": {},
   "source": [
    "# Training a Network with a Softmax Layer\n",
    "\n",
    "How do we train a neural network that has a softmax layer? i.e. how do we use the outputs of the softmax layer to calculate the gradients?\n",
    "\n",
    "## Loss Function\n",
    "\n",
    "To calculate the loss function to optimize for a softmax layer, we use the following:\n",
    "\n",
    "$$\\mathcal{L}(\\hat{y}, y) = - \\sum_{j=1}^{C} y_j \\log \\hat{y}_j$$\n",
    "\n",
    "Then the corresponding cost function will be:\n",
    "\n",
    "$$J(W^{[1]}, b^{[1]}, \\dots) = \\frac{1}{m} \\sum_{i=0}^{m} \\mathcal{L}(\\hat{y}^{(i)}, y^{(i)})$$\n",
    "\n",
    "## Backpropagation\n",
    "\n",
    "In our backprop, we see that our `dz` will be $\\hat{y} - y$, which gives us a vector in the shape `(4, 1)`. But since we are doing programming assignments in programming frameworks from this week onwards, we do not need to know the backpropagation derivatives in detail."
   ]
  }
 ],
 "metadata": {
  "kernelspec": {
   "display_name": "Python 3",
   "language": "python",
   "name": "python3"
  },
  "language_info": {
   "codemirror_mode": {
    "name": "ipython",
    "version": 3
   },
   "file_extension": ".py",
   "mimetype": "text/x-python",
   "name": "python",
   "nbconvert_exporter": "python",
   "pygments_lexer": "ipython3",
   "version": "3.6.2"
  }
 },
 "nbformat": 4,
 "nbformat_minor": 2
}

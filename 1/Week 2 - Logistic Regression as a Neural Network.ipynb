{
 "cells": [
  {
   "cell_type": "code",
   "execution_count": 1,
   "metadata": {},
   "outputs": [],
   "source": [
    "import numpy as np\n",
    "import matplotlib.pyplot as plt"
   ]
  },
  {
   "cell_type": "markdown",
   "metadata": {},
   "source": [
    "# Binary Classification\n",
    "\n",
    "## Example Problem\n",
    "\n",
    "- Input: Cat iamge\n",
    "- Output: 1 (cat) vs 0 (non-cat)\n",
    "\n",
    "An image is represented by a red-green-blue channel 2D image. i.e. if an image is 64x64 pixel image, then we have 3 64x64 matrices. \n",
    "\n",
    "In order to turn the pixels into a feature vector, we are going to unravel all of the pixel value into a single vector: $x$ = `[255, 231, ..., 255, 134...]`.\n",
    "\n",
    "In a more formal notation,\n",
    "$$n_x = 64 \\times 64 \\times 3 = 12288$$\n",
    "\n",
    "## Notations\n",
    "\n",
    "We have $m$ training examples.\n",
    "$$\\{(x^{(1)}, y^{(1)}), (x^{(1)}, y^{(1)}), (x^{(1)}, y^{(1)}), (x^{(1)}, y^{(1)}), ... (x^{(m)}, y^{(m)}) \\}$$\n",
    "\n",
    "Another notation that we need to know is that sometimes we want to treat a training example as a **single matrix**. For this course, and simple implementation of the neural network, we will stack our training examples **column wise**.\n",
    "\n",
    "$$X = \\Bigg[ x^{(1)}, x^{(2)}, ..., x^{(m)} \\Bigg], X \\in \\mathbb{R}^{n_x \\times m}$$\n",
    "\n",
    "When we implement this in `numpy`, `X.shape = (n_x, m)`.\n",
    "\n",
    "Accompanying $X$, we also have our $Y$ matrix, which is our $y$ values stacked **column wise**.\n",
    "\n",
    "$$Y = \\Bigg[y^{(1)}, y^{(2)}, y^{(3)}, ... , y^{(m)} \\Bigg], Y \\in \\mathbb{R}^{1 \\times m}$$\n",
    "\n",
    "When we implement this in `numpy`, `Y.shape = (1, m)`.\n",
    "\n",
    "If we forget about the notations, there's always the **notation guide** in the course to refer to!"
   ]
  },
  {
   "cell_type": "markdown",
   "metadata": {},
   "source": [
    "# Logistic Regression\n",
    "\n",
    "Given $x$, we want $\\hat{y} = P(y = 1 \\ | \\ x)$\n",
    "\n",
    "Since we know that $x \\in \\mathbb{R}^{n_x}$, our parameters will be $w \\in \\mathbb{R}^{n_x}$ and $b \\in \\mathbb{R}$.\n",
    "\n",
    "Given the parameters, $w$ and $b$, how do we generate $\\hat{y}$?\n",
    "\n",
    "A wrong naive guess is to simply add then together as such\n",
    "$$\\hat{y} = w^Tx + b$$\n",
    "\n",
    "But this isn't a great idea for binary classification because we want $\\hat{y}$ to be the chance that $y = 1$. To limit this within the range of $0$ and $1$, we use the **sigmoid function** instead.\n",
    "$$\\hat{y} = \\sigma(w^Tx + b)$$\n",
    "\n",
    "Here's how a sigmoid function looks like:\n",
    "\n",
    "$$\\sigma(z) = \\frac{1}{1 + e^{-z}}$$\n",
    "\n",
    "Observe the following:\n",
    "\n",
    "1. When $z$ is large, $\\sigma(z) \\approx \\frac{1}{1 + 0} = 1$\n",
    "2. When $z$ is small, $\\sigma(z) \\approx \\frac{1}{1 + \\text{big number}} \\approx 0$\n",
    "\n",
    "Therefore we are able to always have an output that is between 0 and 1. See below for a brief plot of the sigmoid function in `numpy`."
   ]
  },
  {
   "cell_type": "code",
   "execution_count": 19,
   "metadata": {},
   "outputs": [
    {
     "data": {
      "image/png": "[encoded data removed]",
      "text/plain": [
       "<matplotlib.figure.Figure at 0x7f971620c978>"
      ]
     },
     "metadata": {},
     "output_type": "display_data"
    }
   ],
   "source": [
    "def sigmoid(z):\n",
    "    return 1 / (1 + np.exp(-z))\n",
    "\n",
    "plt.plot(np.arange(-5, 6), [sigmoid(z) for z in np.arange(-5, 6)])\n",
    "plt.axhline(y=0, color='k')\n",
    "plt.axvline(x=0, color='k')\n",
    "plt.grid(True)\n",
    "plt.ylabel('sigma(z)')\n",
    "plt.xlabel('z')\n",
    "plt.show()"
   ]
  },
  {
   "cell_type": "markdown",
   "metadata": {},
   "source": [
    "## Notation Quirks\n",
    "\n",
    "Sometimes the parameters $w$ and $b$ are defined together in a single matrix by simply adding another $x_0$ to our feature vector such that $X \\in \\mathbb{R}^{n_x + 1}$. This means that $\\hat{y} = \\sigma(\\theta^{T}x)$. \n",
    "\n",
    "But for implementation simplicity, it is better to keep $w$ and $b$ as separate vectors, therefore keep this in mind when we implement our neural network. (It's slightly different from CS229's notation!)"
   ]
  },
  {
   "cell_type": "markdown",
   "metadata": {},
   "source": [
    "# Logistic Regression Cost Function\n",
    "\n",
    "To simplify what we are trying to achieve, given $\\{(x^{(1)}, y^{(1)}), (x^{(1)}, y^{(1)}), (x^{(1)}, y^{(1)}), (x^{(1)}, y^{(1)}), ... (x^{(m)}, y^{(m)}) \\}$, we want $\\hat{y}^{(i)} \\approx y^{(i)}$.\n",
    "\n",
    "## Loss (error) function\n",
    "\n",
    "A naive shot at the loss function would be the squared error, which is\n",
    "$$\\mathcal{L}(\\hat{y}, y) = \\frac{1}{2}(\\hat{y} - y)^2$$\n",
    "\n",
    "The optimisation problem if we use this loss function becomes non-convex. We will not get the global optima with this loss function. We will come back to this concept later.\n",
    "\n",
    "A better loss function is:\n",
    "\n",
    "$$\\mathcal{L}(\\hat{y}, y) = - \\big(y\\ \\log\\hat{y} + (1 - y)\\ \\log(1 - \\hat{y}) \\big)$$\n",
    "\n",
    "Some observations for this loss function:\n",
    "\n",
    "1. If $y = 1$, $\\mathcal{L}(\\hat{y}, y) = -log\\hat{y}$. Which means that we want $log \\hat{y}$ to be large, which implies that we want $\\hat{y}$ to be large.\n",
    "2. If $y = 0$, $\\mathcal{L}(\\hat{y}, y) = -log(1 - \\hat{y})$. This means that we want $log (1 - \\hat{y})$ to be large, which means we want $\\hat{y}$ to be small.\n",
    "\n",
    "The loss function is defined w.r.t to a single training example, but what if we want to know the performance on the entire training set?\n",
    "\n",
    "## Cost function\n",
    "\n",
    "$$J(w, b) = \\frac{1}{m} \\sum^{m}_{i = 1} \\mathcal{L}(\\hat{y}^{(i)}, y^{(i)})$$\n",
    "\n",
    "If we substitute our definition for $\\mathcal{L}(\\hat{y}, y)$ into $J(w, b)$, we get:\n",
    "\n",
    "$$J(w, b) = - \\frac{1}{m} \\sum^{m}_{i = 1} \\big(y^{(i)} \\log\\hat{y}^{(i)} + (1 - y^{(i)})\\log(1 - \\hat{y}^{(i)}) \\big)$$\n",
    "\n",
    "Note that the negative sign is moved out of the summation."
   ]
  },
  {
   "cell_type": "markdown",
   "metadata": {},
   "source": [
    "# Gradient Descent\n",
    "\n",
    "This is an algorithm that finds $w$ and $b$ that minimizes $J(w, b)$ as defined earlier. If we take $w$ and $b$ as two real numbers, we can see $J(w, b)$ as a **convex** surface. This still applies in a higher dimension of $w$.\n",
    "\n",
    "In Gradient Descent, we take the step that lets us move downhill the most in the surface, until we can eventually converge towards the global optimal at the bottom of the surface.\n",
    "\n",
    "The algorithm simply repeats this single step:\n",
    "\n",
    "$$w := w - \\alpha \\frac{d J(w)}{d w}$$\n",
    "\n",
    "In code, we can simply represent $\\frac{d J(w)}{d w}$ as `dw`. This is a convention that will be used for the rest of the course.\n",
    "\n",
    "## Example in a lower dimension\n",
    "\n",
    "Let us suppose that $J(w)$ can be represented on a 2D plane, i.e. $w$ is one-dimensional."
   ]
  },
  {
   "cell_type": "code",
   "execution_count": 21,
   "metadata": {},
   "outputs": [
    {
     "data": {
      "image/png": "[encoded data removed]",
      "text/plain": [
       "<matplotlib.figure.Figure at 0x7f971685e358>"
      ]
     },
     "metadata": {},
     "output_type": "display_data"
    }
   ],
   "source": [
    "def sq(z):\n",
    "    return np.square(z)\n",
    "\n",
    "plt.plot(np.arange(-5, 6), [sq(z) for z in np.arange(-5, 6)])\n",
    "plt.axhline(y=0, color='k')\n",
    "plt.axvline(x=0, color='k')\n",
    "plt.grid(True)\n",
    "plt.ylabel('J(W)')\n",
    "plt.xlabel('w')\n",
    "plt.show()"
   ]
  },
  {
   "cell_type": "markdown",
   "metadata": {},
   "source": [
    "Here's what we can observe:\n",
    "\n",
    "1. If $\\frac{d J(w)}{d w} < 0$, meaning that it has a negative slope, it will result in an increase in $w$ in the next iteration (towards the right)\n",
    "2. If $\\frac{d J(w)}{d w} > 0$, meaning that it has a positive slope, it will result in a decrease in $w$ in the next iteration (towards the left)\n",
    "\n",
    "Performing these iterations will (hopefully) get us to the global optimal at $w = 0$."
   ]
  },
  {
   "cell_type": "markdown",
   "metadata": {},
   "source": [
    "## Actual Update\n",
    "\n",
    "The actual update has to take into account that the cost function is affected by both $w$ and $b$. Therefore we have to update both variables in each iteration.\n",
    "\n",
    "1. $w := \\alpha \\frac{\\delta J(w, b)}{\\delta w}$\n",
    "2. $b := \\alpha \\frac{\\delta J(w, b)}{\\delta b}$\n",
    "\n",
    "Note that we switched from $d$ into a $\\delta$ (partial derivative) symbol here. This just mean that we are measuring the slope of the function w.r.t one variable. "
   ]
  },
  {
   "cell_type": "markdown",
   "metadata": {},
   "source": [
    "# Computation Graph\n",
    "\n",
    "Suppose we are trying to compute $J(a, b, c) = 3(a + bc)$\n",
    "\n",
    "Let $u = bc$, $v = a + u$, $J = 3v$.\n",
    "\n",
    "We can now take these three steps and draw a computation graph.\n",
    "\n",
    "(TODO: I'll fill this part up again when I figure out the best way to draw the computation graph in Jupyter)"
   ]
  },
  {
   "cell_type": "markdown",
   "metadata": {},
   "source": [
    "# Gradient Descent with Logistic Regression\n",
    "\n",
    "Forget about what we learnt in CS229, we're going to perform this gradient descent using the concept of computation graph in the previous video. Note that this is only on **ONE** training example.\n",
    "\n",
    "Recall:\n",
    "\n",
    "$$z = w^T x + b = w_1 x_1 + w_2 x_2 + b$$\n",
    "$$\\hat{y} = a = \\sigma(z)$$\n",
    "$$\\mathcal{L}(\\hat{y}, y) = - \\big(y\\ \\log\\hat{y} + (1 - y)\\ \\log(1 - \\hat{y}) \\big)$$\n",
    "\n",
    "If we draw out the computation graph, we are going to first compute:\n",
    "\n",
    "$$\\frac{\\delta \\mathcal{L}(a, y)}{\\delta a} = - \\frac{y}{a} + \\frac{1-y}{1-a}$$\n",
    "\n",
    "Then we move backwards by one step and we get (by applying Chain Rule):\n",
    "\n",
    "$$\\frac{\\delta \\mathcal{L(a, y)}}{\\delta z} = a - y$$\n",
    "\n",
    "To get our partial derivatives for $w_1$ and $w_2$, we can perform chain rule again:\n",
    "\n",
    "$$\\frac{\\delta \\mathcal{L}(a, y)}{\\delta w_1} = x_1 \\times \\frac{\\delta \\mathcal{L}(a, y)}{\\delta z}$$\n",
    "\n",
    "$$\\frac{\\delta \\mathcal{L}(a, y)}{\\delta w_2} = x_2 \\times \\frac{\\delta \\mathcal{L}(a, y)}{\\delta z}$$\n",
    "\n",
    "$$\\frac{\\delta \\mathcal{L}(a, y)}{\\delta b} = \\frac{\\delta \\mathcal{L}(a, y)}{\\delta z}$$\n",
    "\n",
    "Now for each iteration of our gradient descent, we can apply the updates:\n",
    "\n",
    "$$w_1 := w_1 + \\alpha \\frac{\\delta \\mathcal{L}(a, y)}{\\delta w_1}$$\n",
    "$$w_2 := w_2 + \\alpha \\frac{\\delta \\mathcal{L}(a, y)}{\\delta w_2}$$\n",
    "$$b := b + \\alpha \\frac{\\delta \\mathcal{L}(a, y)}{\\delta z}$$"
   ]
  },
  {
   "cell_type": "markdown",
   "metadata": {},
   "source": [
    "# Gradient Descent on $m$ Examples\n",
    "\n",
    "Now we are going to try applying the same computation graph methods for $m$ training examples.\n",
    "\n",
    "Recall that the cost function:\n",
    "\n",
    "$$J(w, b) = \\frac{1}{m} \\sum^{m}_{i = 1} \\mathcal{L}(\\hat{y}^{(i)}, y^{(i)})$$\n",
    "\n",
    "To find the partial derivative w.r.t $w_1$,\n",
    "\n",
    "$$\\frac{\\delta}{\\delta w_1} J(w, b) = \\frac{1}{m} \\sum^{m}_{i=1} \\frac{\\delta}{\\delta w_1} \\mathcal{L}(a, y)$$\n",
    "\n",
    "We find that we can reuse of our previously found derivative from the single training example here too. So in each iteration, we have to write 2 for-loops, which is very inefficient."
   ]
  }
 ],
 "metadata": {
  "kernelspec": {
   "display_name": "Python 3",
   "language": "python",
   "name": "python3"
  },
  "language_info": {
   "codemirror_mode": {
    "name": "ipython",
    "version": 3
   },
   "file_extension": ".py",
   "mimetype": "text/x-python",
   "name": "python",
   "nbconvert_exporter": "python",
   "pygments_lexer": "ipython3",
   "version": "3.6.2"
  }
 },
 "nbformat": 4,
 "nbformat_minor": 2
}

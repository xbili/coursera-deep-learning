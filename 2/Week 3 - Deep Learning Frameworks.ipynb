{
 "cells": [
  {
   "cell_type": "markdown",
   "metadata": {},
   "source": [
    "# Deep Learning Frameworks\n",
    "\n",
    "It is not practical to implement everything from scratch. But there are many software programming frameworks that can help us implement algorithms more efficiently. This is analogous to how we do not program our own matrix multiply algorithm, but simply call a linear algebra library for us.\n",
    "\n",
    "## Choosing Deep Learning Frameworks\n",
    "\n",
    "A few criteria:\n",
    "\n",
    "1. Ease of programming in development and deployment (to production)\n",
    "2. Running speed\n",
    "3. Truly open (open source with good governance)"
   ]
  },
  {
   "cell_type": "markdown",
   "metadata": {},
   "source": [
    "# Tensorflow\n",
    "\n",
    "Let's see a basic structure of a Tensorflow program. For the sake of providing a simple motivating example, suppose that we have a cost function $J(w) = w^2 - 10w + 25$. Let's see how we can find parameter $w$ in Tensorflow."
   ]
  },
  {
   "cell_type": "code",
   "execution_count": 1,
   "metadata": {},
   "outputs": [
    {
     "name": "stderr",
     "output_type": "stream",
     "text": [
      "/home/xbili/.pyenv/versions/3.6.2/lib/python3.6/importlib/_bootstrap.py:205: RuntimeWarning: compiletime version 3.5 of module 'tensorflow.python.framework.fast_tensor_util' does not match runtime version 3.6\n",
      "  return f(*args, **kwds)\n"
     ]
    }
   ],
   "source": [
    "import numpy as np\n",
    "import tensorflow as tf"
   ]
  },
  {
   "cell_type": "code",
   "execution_count": 11,
   "metadata": {},
   "outputs": [
    {
     "name": "stdout",
     "output_type": "stream",
     "text": [
      "0.0\n"
     ]
    }
   ],
   "source": [
    "# Parameter we want to optimize\n",
    "w = tf.Variable(0, dtype=tf.float32)\n",
    "\n",
    "# Cost function - just forward propagation\n",
    "cost = tf.add(tf.add(w**2, tf.multiply(-10., w)), 25)\n",
    "# cost = w**2 - 10*w + 25 # This works too\n",
    "train = tf.train.GradientDescentOptimizer(0.01).minimize(cost)\n",
    "\n",
    "init = tf.global_variables_initializer()\n",
    "session = tf.Session()\n",
    "session.run(init)\n",
    "\n",
    "# Evalutes w to be zero - we haven't run anything yet\n",
    "print(session.run(w))"
   ]
  },
  {
   "cell_type": "code",
   "execution_count": 6,
   "metadata": {},
   "outputs": [
    {
     "name": "stdout",
     "output_type": "stream",
     "text": [
      "0.1\n"
     ]
    }
   ],
   "source": [
    "session.run(train)\n",
    "\n",
    "# Evaluate w after one step of gradient descent\n",
    "print(session.run(w))"
   ]
  },
  {
   "cell_type": "code",
   "execution_count": 8,
   "metadata": {},
   "outputs": [
    {
     "name": "stdout",
     "output_type": "stream",
     "text": [
      "4.99999\n"
     ]
    }
   ],
   "source": [
    "# Run a thousand iterations of gradient descent\n",
    "for _ in range(1000):\n",
    "    session.run(train)\n",
    "print(session.run(w))"
   ]
  },
  {
   "cell_type": "markdown",
   "metadata": {},
   "source": [
    "## Defining Training Data into Tensorflow Program\n",
    "\n",
    "Suppose now we have a new variable `x` that is our input data. We use `tf.placeholder` to achieve what we want."
   ]
  },
  {
   "cell_type": "code",
   "execution_count": 12,
   "metadata": {},
   "outputs": [],
   "source": [
    "# x is a (3, 1) matrix\n",
    "x = tf.placeholder(tf.float32, [3, 1])\n",
    "\n",
    "# Cost is now a function of x\n",
    "cost = x[0][0] * w**2 + x[1][0] * w + x[2][0]"
   ]
  },
  {
   "cell_type": "markdown",
   "metadata": {},
   "source": [
    "Note that our cost function is now a **computation graph** that Tensorflow builds. By implementing this forward propagation, Tensorflow has already implemented the backward propagation formulas that can be deduced from the forward propagation.\n",
    "\n",
    "That is why do we not have to implicitly implement the backpropagation.\n",
    "\n",
    "We can now use `feed_dict` to feed in training examples into our cost function."
   ]
  },
  {
   "cell_type": "code",
   "execution_count": 15,
   "metadata": {},
   "outputs": [],
   "source": [
    "# Training data\n",
    "coefficients = np.array([[1.], [-10.], [25.]])"
   ]
  },
  {
   "cell_type": "code",
   "execution_count": 17,
   "metadata": {},
   "outputs": [
    {
     "name": "stdout",
     "output_type": "stream",
     "text": [
      "0.1\n"
     ]
    }
   ],
   "source": [
    "session.run(train, feed_dict={x: coefficients})\n",
    "\n",
    "# Evaluate w after one step of gradient descent\n",
    "print(session.run(w))"
   ]
  },
  {
   "cell_type": "code",
   "execution_count": 18,
   "metadata": {},
   "outputs": [
    {
     "name": "stdout",
     "output_type": "stream",
     "text": [
      "4.99999\n"
     ]
    }
   ],
   "source": [
    "# Run a thousand iterations of gradient descent\n",
    "for _ in range(1000):\n",
    "    session.run(train, feed_dict={x: coefficients})\n",
    "print(session.run(w))"
   ]
  },
  {
   "cell_type": "markdown",
   "metadata": {},
   "source": [
    "# Alternative `tf.Session` initializer\n",
    "\n",
    "The lines of code to initialize a session is pretty idiomatic, so what some programmers like to do is the following."
   ]
  },
  {
   "cell_type": "code",
   "execution_count": 19,
   "metadata": {},
   "outputs": [
    {
     "name": "stdout",
     "output_type": "stream",
     "text": [
      "4.99999\n"
     ]
    }
   ],
   "source": [
    "with tf.Session() as session:\n",
    "    session.run(init)\n",
    "    for _ in range(1000):\n",
    "        session.run(train, feed_dict={x: coefficients})\n",
    "    print(session.run(w))"
   ]
  },
  {
   "cell_type": "markdown",
   "metadata": {},
   "source": [
    "The `with` keyword in Python helps with cleaning things up better in the event that something fails or throws an error. It is much cleaner and in some sense safer to use this format of initializing our `tf.Session`."
   ]
  },
  {
   "cell_type": "markdown",
   "metadata": {},
   "source": [
    "# Simple Steps\n",
    "\n",
    "1. Create tensors (`tf.Variables`) that are not yet executed/evaluated\n",
    "2. Write operations between tensors\n",
    "3. Initialize tensors\n",
    "4. Create a session\n",
    "5. Run the session"
   ]
  }
 ],
 "metadata": {
  "kernelspec": {
   "display_name": "Python 3",
   "language": "python",
   "name": "python3"
  },
  "language_info": {
   "codemirror_mode": {
    "name": "ipython",
    "version": 3
   },
   "file_extension": ".py",
   "mimetype": "text/x-python",
   "name": "python",
   "nbconvert_exporter": "python",
   "pygments_lexer": "ipython3",
   "version": "3.6.2"
  }
 },
 "nbformat": 4,
 "nbformat_minor": 2
}

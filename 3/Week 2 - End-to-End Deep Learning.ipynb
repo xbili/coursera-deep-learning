{
 "cells": [
  {
   "cell_type": "markdown",
   "metadata": {},
   "source": [
    "# End-to-End Deep Learning\n",
    "\n",
    "End-to-End deep learning simply removes the intermediate stages of data processing, instead replacing it with a single neural network.\n",
    "\n",
    "## Case Study: Speech Recognition\n",
    "\n",
    "The pipeline for a speech recognition used to be:\n",
    "\n",
    "1. Audio processing\n",
    "2. Features extraction\n",
    "3. Phonemes extraction\n",
    "4. Form a word vector\n",
    "5. Output trasncript\n",
    "\n",
    "But in the neural network era, this entire process can be replaced with a single neural network.\n",
    "\n",
    "(...and other case studies...)\n",
    "\n",
    "When this works, it works really well - only if there is a **large enough dataset**."
   ]
  },
  {
   "cell_type": "markdown",
   "metadata": {},
   "source": [
    "# Whether we should use a End-to-End Approach\n",
    "\n",
    "## Benefits\n",
    "\n",
    "1. Let the data speak for itself - not much processing!\n",
    "2. Less hand-designing of components needed\n",
    "\n",
    "## Drawbacks\n",
    "\n",
    "1. May need large amount of data\n",
    "2. Excludes potentially useful hand-designed components\n",
    "\n",
    "## Key Question\n",
    "\n",
    "> Do you have sufficient data in order to learn a function of the complexity needed to map $x$ to $y$?"
   ]
  }
 ],
 "metadata": {
  "kernelspec": {
   "display_name": "Python 3",
   "language": "python",
   "name": "python3"
  },
  "language_info": {
   "codemirror_mode": {
    "name": "ipython",
    "version": 3
   },
   "file_extension": ".py",
   "mimetype": "text/x-python",
   "name": "python",
   "nbconvert_exporter": "python",
   "pygments_lexer": "ipython3",
   "version": "3.6.2"
  }
 },
 "nbformat": 4,
 "nbformat_minor": 2
}

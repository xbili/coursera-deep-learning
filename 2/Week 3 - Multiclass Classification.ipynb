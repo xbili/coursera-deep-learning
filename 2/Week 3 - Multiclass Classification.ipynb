{
 "cells": [
  {
   "cell_type": "markdown",
   "metadata": {},
   "source": [
    "# Softmax Regression\n",
    "\n",
    "This regression is used when we want to classify into $C$ different classes. The output layer will then tell us the probability of each class given the training data, $X$.\n",
    "\n",
    "## Softmax Layer\n",
    "\n",
    "$$t = e^{z^{[l]}}$$\n",
    "$$a^{[l]} = \\frac{e^{z^{[l]}}}{\\sum t_i}$$\n",
    "\n",
    "Since we normalize across all outputs, we get back a vector result instead."
   ]
  }
 ],
 "metadata": {
  "kernelspec": {
   "display_name": "Python 3",
   "language": "python",
   "name": "python3"
  },
  "language_info": {
   "codemirror_mode": {
    "name": "ipython",
    "version": 3
   },
   "file_extension": ".py",
   "mimetype": "text/x-python",
   "name": "python",
   "nbconvert_exporter": "python",
   "pygments_lexer": "ipython3",
   "version": "3.6.2"
  }
 },
 "nbformat": 4,
 "nbformat_minor": 2
}
